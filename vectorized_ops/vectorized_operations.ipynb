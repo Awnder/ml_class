{
 "cells": [
  {
   "cell_type": "markdown",
   "id": "0df3cc03",
   "metadata": {},
   "source": [
    "# Numpy Vectorized Operations and Broadcasting #\n",
    "\n"
   ]
  },
  {
   "cell_type": "markdown",
   "id": "694bb556",
   "metadata": {},
   "source": [
    "## Traditional Processing ##\n",
    "\n",
    "Most Python programmers are familiar with the List object, denoted with the `[` and `]` operators. Lists can be used like a dynamic array that grows and shrinks at runtime. They can be accessed by index number and are the basis of many data structures."
   ]
  },
  {
   "cell_type": "code",
   "execution_count": 1,
   "id": "7596103f",
   "metadata": {},
   "outputs": [
    {
     "name": "stdout",
     "output_type": "stream",
     "text": [
      "[2, 6, 10, 14, 18]\n"
     ]
    }
   ],
   "source": [
    "data = [ 1, 3, 5, 7, 9 ]\n",
    "for i in range(len(data)):\n",
    "    data[i] = data[i] * 2\n",
    "print(data)"
   ]
  },
  {
   "cell_type": "code",
   "execution_count": null,
   "id": "ffa7459a",
   "metadata": {},
   "outputs": [],
   "source": []
  },
  {
   "cell_type": "markdown",
   "id": "1b5901d8",
   "metadata": {},
   "source": [
    "## Numpy Arrays ##\n",
    "\n",
    "At the root of Numpy is the `ndarray` object, which stands for n-dimensional array. You can create an `ndarray` from scratch, but the constructor is somewhat complicated. It's easier to create them from the simpler `np.array` object."
   ]
  },
  {
   "cell_type": "code",
   "execution_count": 4,
   "id": "d5f2695e",
   "metadata": {},
   "outputs": [
    {
     "name": "stdout",
     "output_type": "stream",
     "text": [
      "Collecting numpy\n",
      "  Downloading numpy-2.2.1-cp312-cp312-win_amd64.whl.metadata (60 kB)\n",
      "Downloading numpy-2.2.1-cp312-cp312-win_amd64.whl (12.6 MB)\n",
      "   ---------------------------------------- 0.0/12.6 MB ? eta -:--:--\n",
      "   - -------------------------------------- 0.5/12.6 MB 3.4 MB/s eta 0:00:04\n",
      "   ------ --------------------------------- 2.1/12.6 MB 5.9 MB/s eta 0:00:02\n",
      "   ---------- ----------------------------- 3.4/12.6 MB 6.1 MB/s eta 0:00:02\n",
      "   --------------- ------------------------ 5.0/12.6 MB 6.6 MB/s eta 0:00:02\n",
      "   ------------------- -------------------- 6.3/12.6 MB 6.5 MB/s eta 0:00:01\n",
      "   ----------------------- ---------------- 7.3/12.6 MB 6.5 MB/s eta 0:00:01\n",
      "   --------------------------- ------------ 8.7/12.6 MB 6.3 MB/s eta 0:00:01\n",
      "   ------------------------------ --------- 9.7/12.6 MB 6.2 MB/s eta 0:00:01\n",
      "   ---------------------------------- ----- 11.0/12.6 MB 6.3 MB/s eta 0:00:01\n",
      "   ---------------------------------------  12.6/12.6 MB 6.4 MB/s eta 0:00:01\n",
      "   ---------------------------------------- 12.6/12.6 MB 6.3 MB/s eta 0:00:00\n",
      "Installing collected packages: numpy\n",
      "Successfully installed numpy-2.2.1\n",
      "Note: you may need to restart the kernel to use updated packages.\n"
     ]
    }
   ],
   "source": [
    "%pip install numpy"
   ]
  },
  {
   "cell_type": "code",
   "execution_count": 5,
   "id": "451c78f6",
   "metadata": {},
   "outputs": [
    {
     "name": "stdout",
     "output_type": "stream",
     "text": [
      "[ 2  6 10 14 18]\n"
     ]
    }
   ],
   "source": [
    "import numpy as np\n",
    "\n",
    "data = np.array([ 1, 3, 5, 7, 9])\n",
    "for i in range(len(data)):\n",
    "    data[i] = data[i] * 2\n",
    "print(data)"
   ]
  },
  {
   "cell_type": "code",
   "execution_count": null,
   "id": "d1f5afe3",
   "metadata": {},
   "outputs": [],
   "source": []
  },
  {
   "cell_type": "markdown",
   "id": "f95cf0ee",
   "metadata": {},
   "source": [
    "## Numpy Arrays vs Python Lists ##\n",
    "\n",
    "Python programmers may not be as comfortable with Numpy Arrays. Numpy arrays work similar to Lists but they are faster, more powerful, and a little more difficult to program. Numpy Arrays are a very common data structure for machine learning. "
   ]
  },
  {
   "cell_type": "code",
   "execution_count": 6,
   "id": "1755b75e",
   "metadata": {},
   "outputs": [
    {
     "name": "stdout",
     "output_type": "stream",
     "text": [
      "[1, 3, 5, 7, 9, 1, 3, 5, 7, 9]\n"
     ]
    }
   ],
   "source": [
    "data = [ 1, 3, 5, 7, 9 ]\n",
    "data = data * 2\n",
    "print(data)"
   ]
  },
  {
   "cell_type": "code",
   "execution_count": 7,
   "id": "1b2ee60a",
   "metadata": {},
   "outputs": [
    {
     "name": "stdout",
     "output_type": "stream",
     "text": [
      "[ 2  6 10 14 18]\n"
     ]
    }
   ],
   "source": [
    "data = np.array([ 1, 3, 5, 7, 9])\n",
    "data = data * 2\n",
    "print(data)"
   ]
  },
  {
   "cell_type": "code",
   "execution_count": null,
   "id": "03519bc5",
   "metadata": {},
   "outputs": [],
   "source": []
  },
  {
   "cell_type": "markdown",
   "id": "d532e91e",
   "metadata": {},
   "source": [
    "## Numpy Vectorized Operations ##\n",
    "\n",
    "Vectorized Operations are a special feature in Numpy module that allow you to perform math operations on every element in an array without using loops. They are much faster than traditional Python loops because Numpy was written in C/C++ and compiled. This means that only one line of Python code must be interpreted \"on the fly\" and then each of the individual operations execute immediately in machine code. Additionally, the memory structure of the Numpy array is optimized for such operations.\n",
    "\n",
    "Those of you who have used the Pandas library are familiar with vectorized operations because we use them often on DataFrames. This is because Pandas is built on top of Numpy as uses Numpy arrays to implement DataFrame objects."
   ]
  },
  {
   "cell_type": "code",
   "execution_count": 8,
   "id": "de3a24d0",
   "metadata": {},
   "outputs": [
    {
     "name": "stdout",
     "output_type": "stream",
     "text": [
      "[ 0  6 20]\n"
     ]
    }
   ],
   "source": [
    "data1 = np.array([ 1, 3, 5 ])\n",
    "data2 = np.array([ 0, 2, 4 ])\n",
    "data = data1 * data2\n",
    "print(data)"
   ]
  },
  {
   "cell_type": "code",
   "execution_count": null,
   "id": "2ef5df81",
   "metadata": {},
   "outputs": [],
   "source": []
  },
  {
   "cell_type": "markdown",
   "id": "be273b96",
   "metadata": {},
   "source": [
    "## Numpy Operations Along an Axis ##\n",
    "\n",
    "Be careful mixing Numpy arrays and traditional math operations. The operation will often succeed, but may not be performing the operation that you want and is far less flexible. Use the Numpy equivalent of these functions and then specify the `axis=` parameter to change which dimension of the array is used (e.g., `sum` vs `np.sum`, `max` vs `np.max`, etc.)"
   ]
  },
  {
   "cell_type": "code",
   "execution_count": 9,
   "id": "178a20d7",
   "metadata": {},
   "outputs": [
    {
     "name": "stdout",
     "output_type": "stream",
     "text": [
      "[1 5 9]\n"
     ]
    }
   ],
   "source": [
    "# Traditional operator\n",
    "data = np.array([ [ 1, 3, 5 ], [ 0, 2, 4 ] ])\n",
    "data = sum(data)\n",
    "print(data)"
   ]
  },
  {
   "cell_type": "code",
   "execution_count": 10,
   "id": "1bdf1fdb",
   "metadata": {},
   "outputs": [
    {
     "name": "stdout",
     "output_type": "stream",
     "text": [
      "15\n"
     ]
    }
   ],
   "source": [
    "# Numpy version\n",
    "data = np.array([ [ 1, 3, 5 ], [ 0, 2, 4 ] ])\n",
    "data = np.sum(data)\n",
    "print(data)"
   ]
  },
  {
   "cell_type": "code",
   "execution_count": 11,
   "id": "52941ec1",
   "metadata": {},
   "outputs": [
    {
     "name": "stdout",
     "output_type": "stream",
     "text": [
      "[1 5 9]\n"
     ]
    }
   ],
   "source": [
    "# Numpy operation based on the first axis (index 0) which is the innermost axis and in this example, a 1-dimensional 3-element array \n",
    "data = np.array([ [ 1, 3, 5 ], [ 0, 2, 4 ] ])\n",
    "data = np.sum(data, axis=0)\n",
    "print(data)"
   ]
  },
  {
   "cell_type": "code",
   "execution_count": 12,
   "id": "ecafdb91",
   "metadata": {},
   "outputs": [
    {
     "name": "stdout",
     "output_type": "stream",
     "text": [
      "[9 6]\n"
     ]
    }
   ],
   "source": [
    "# Numpy operation based on the second axis (index 1) which is the outer axis and in this example, a 1-dimensional 2-element array\n",
    "data = np.array([ [ 1, 3, 5 ], [ 0, 2, 4 ] ])\n",
    "data = np.sum(data, axis=1)\n",
    "print(data)"
   ]
  },
  {
   "cell_type": "code",
   "execution_count": 13,
   "id": "141f31c4",
   "metadata": {},
   "outputs": [
    {
     "ename": "AxisError",
     "evalue": "axis 2 is out of bounds for array of dimension 2",
     "output_type": "error",
     "traceback": [
      "\u001b[1;31m---------------------------------------------------------------------------\u001b[0m",
      "\u001b[1;31mAxisError\u001b[0m                                 Traceback (most recent call last)",
      "Cell \u001b[1;32mIn[13], line 3\u001b[0m\n\u001b[0;32m      1\u001b[0m \u001b[38;5;66;03m# Oops, there is no axis at index 2\u001b[39;00m\n\u001b[0;32m      2\u001b[0m data \u001b[38;5;241m=\u001b[39m np\u001b[38;5;241m.\u001b[39marray([ [ \u001b[38;5;241m1\u001b[39m, \u001b[38;5;241m3\u001b[39m, \u001b[38;5;241m5\u001b[39m ], [ \u001b[38;5;241m0\u001b[39m, \u001b[38;5;241m2\u001b[39m, \u001b[38;5;241m4\u001b[39m ] ])\n\u001b[1;32m----> 3\u001b[0m data \u001b[38;5;241m=\u001b[39m \u001b[43mnp\u001b[49m\u001b[38;5;241;43m.\u001b[39;49m\u001b[43msum\u001b[49m\u001b[43m(\u001b[49m\u001b[43mdata\u001b[49m\u001b[43m,\u001b[49m\u001b[43m \u001b[49m\u001b[43maxis\u001b[49m\u001b[38;5;241;43m=\u001b[39;49m\u001b[38;5;241;43m2\u001b[39;49m\u001b[43m)\u001b[49m\n\u001b[0;32m      4\u001b[0m \u001b[38;5;28mprint\u001b[39m(data)\n",
      "File \u001b[1;32me:\\Microsoft VS Code\\.venv\\Lib\\site-packages\\numpy\\_core\\fromnumeric.py:2466\u001b[0m, in \u001b[0;36msum\u001b[1;34m(a, axis, dtype, out, keepdims, initial, where)\u001b[0m\n\u001b[0;32m   2463\u001b[0m         \u001b[38;5;28;01mreturn\u001b[39;00m out\n\u001b[0;32m   2464\u001b[0m     \u001b[38;5;28;01mreturn\u001b[39;00m res\n\u001b[1;32m-> 2466\u001b[0m \u001b[38;5;28;01mreturn\u001b[39;00m \u001b[43m_wrapreduction\u001b[49m\u001b[43m(\u001b[49m\n\u001b[0;32m   2467\u001b[0m \u001b[43m    \u001b[49m\u001b[43ma\u001b[49m\u001b[43m,\u001b[49m\u001b[43m \u001b[49m\u001b[43mnp\u001b[49m\u001b[38;5;241;43m.\u001b[39;49m\u001b[43madd\u001b[49m\u001b[43m,\u001b[49m\u001b[43m \u001b[49m\u001b[38;5;124;43m'\u001b[39;49m\u001b[38;5;124;43msum\u001b[39;49m\u001b[38;5;124;43m'\u001b[39;49m\u001b[43m,\u001b[49m\u001b[43m \u001b[49m\u001b[43maxis\u001b[49m\u001b[43m,\u001b[49m\u001b[43m \u001b[49m\u001b[43mdtype\u001b[49m\u001b[43m,\u001b[49m\u001b[43m \u001b[49m\u001b[43mout\u001b[49m\u001b[43m,\u001b[49m\n\u001b[0;32m   2468\u001b[0m \u001b[43m    \u001b[49m\u001b[43mkeepdims\u001b[49m\u001b[38;5;241;43m=\u001b[39;49m\u001b[43mkeepdims\u001b[49m\u001b[43m,\u001b[49m\u001b[43m \u001b[49m\u001b[43minitial\u001b[49m\u001b[38;5;241;43m=\u001b[39;49m\u001b[43minitial\u001b[49m\u001b[43m,\u001b[49m\u001b[43m \u001b[49m\u001b[43mwhere\u001b[49m\u001b[38;5;241;43m=\u001b[39;49m\u001b[43mwhere\u001b[49m\n\u001b[0;32m   2469\u001b[0m \u001b[43m\u001b[49m\u001b[43m)\u001b[49m\n",
      "File \u001b[1;32me:\\Microsoft VS Code\\.venv\\Lib\\site-packages\\numpy\\_core\\fromnumeric.py:86\u001b[0m, in \u001b[0;36m_wrapreduction\u001b[1;34m(obj, ufunc, method, axis, dtype, out, **kwargs)\u001b[0m\n\u001b[0;32m     83\u001b[0m         \u001b[38;5;28;01melse\u001b[39;00m:\n\u001b[0;32m     84\u001b[0m             \u001b[38;5;28;01mreturn\u001b[39;00m reduction(axis\u001b[38;5;241m=\u001b[39maxis, out\u001b[38;5;241m=\u001b[39mout, \u001b[38;5;241m*\u001b[39m\u001b[38;5;241m*\u001b[39mpasskwargs)\n\u001b[1;32m---> 86\u001b[0m \u001b[38;5;28;01mreturn\u001b[39;00m \u001b[43mufunc\u001b[49m\u001b[38;5;241;43m.\u001b[39;49m\u001b[43mreduce\u001b[49m\u001b[43m(\u001b[49m\u001b[43mobj\u001b[49m\u001b[43m,\u001b[49m\u001b[43m \u001b[49m\u001b[43maxis\u001b[49m\u001b[43m,\u001b[49m\u001b[43m \u001b[49m\u001b[43mdtype\u001b[49m\u001b[43m,\u001b[49m\u001b[43m \u001b[49m\u001b[43mout\u001b[49m\u001b[43m,\u001b[49m\u001b[43m \u001b[49m\u001b[38;5;241;43m*\u001b[39;49m\u001b[38;5;241;43m*\u001b[39;49m\u001b[43mpasskwargs\u001b[49m\u001b[43m)\u001b[49m\n",
      "\u001b[1;31mAxisError\u001b[0m: axis 2 is out of bounds for array of dimension 2"
     ]
    }
   ],
   "source": [
    "# Oops, there is no axis at index 2\n",
    "data = np.array([ [ 1, 3, 5 ], [ 0, 2, 4 ] ])\n",
    "data = np.sum(data, axis=2)\n",
    "print(data)"
   ]
  },
  {
   "cell_type": "code",
   "execution_count": null,
   "id": "e6ac789d",
   "metadata": {},
   "outputs": [],
   "source": []
  },
  {
   "cell_type": "markdown",
   "id": "06b8d4f1",
   "metadata": {},
   "source": [
    "## Working in 3+ Dimensions ##\n",
    "\n",
    "Sometimes you will be working with Numpy arrays that are 3 or more dimensions. For example, images are often represented as 3D arrays and a video can be stored as a 4D array. Try to guess the result of each operation and then run the code to confirm your ideas."
   ]
  },
  {
   "cell_type": "code",
   "execution_count": 14,
   "id": "771620bb",
   "metadata": {},
   "outputs": [
    {
     "name": "stdout",
     "output_type": "stream",
     "text": [
      "[[[255   0   0]\n",
      "  [  0 255   0]]\n",
      "\n",
      " [[  0   0 255]\n",
      "  [255 255 255]]]\n"
     ]
    }
   ],
   "source": [
    "# Pretend this is a small 2x2 image with pixels that are red, green, blue, and white.\n",
    "image = np.array([ [ [ 255, 0, 0 ], [ 0, 255, 0 ] ], [ [0, 0, 255], [255, 255, 255]]])\n",
    "print(image)\n",
    "\n",
    "# We want to find the total intensity of each pixel, which means we must take the sum."
   ]
  },
  {
   "cell_type": "code",
   "execution_count": 15,
   "id": "78012e5b",
   "metadata": {},
   "outputs": [
    {
     "data": {
      "text/plain": [
       "np.int64(1530)"
      ]
     },
     "execution_count": 15,
     "metadata": {},
     "output_type": "execute_result"
    }
   ],
   "source": [
    "# What do you think the following line of code will produce?\n",
    "np.sum(image)"
   ]
  },
  {
   "cell_type": "code",
   "execution_count": 16,
   "id": "0a97a8ca",
   "metadata": {},
   "outputs": [
    {
     "data": {
      "text/plain": [
       "array([[255,   0, 255],\n",
       "       [255, 510, 255]])"
      ]
     },
     "execution_count": 16,
     "metadata": {},
     "output_type": "execute_result"
    }
   ],
   "source": [
    "# What do you think the following line of code will produce?\n",
    "np.sum(image, axis=0)"
   ]
  },
  {
   "cell_type": "code",
   "execution_count": 17,
   "id": "8bb45b90",
   "metadata": {},
   "outputs": [
    {
     "data": {
      "text/plain": [
       "array([[255, 255,   0],\n",
       "       [255, 255, 510]])"
      ]
     },
     "execution_count": 17,
     "metadata": {},
     "output_type": "execute_result"
    }
   ],
   "source": [
    "# What do you think the following line of code will produce?\n",
    "np.sum(image, axis=1)"
   ]
  },
  {
   "cell_type": "code",
   "execution_count": 18,
   "id": "fa03e784",
   "metadata": {},
   "outputs": [
    {
     "data": {
      "text/plain": [
       "array([[255, 255],\n",
       "       [255, 765]])"
      ]
     },
     "execution_count": 18,
     "metadata": {},
     "output_type": "execute_result"
    }
   ],
   "source": [
    "# What do you think the following line of code will produce?\n",
    "np.sum(image, axis=2)"
   ]
  },
  {
   "cell_type": "code",
   "execution_count": null,
   "id": "07fd7663",
   "metadata": {},
   "outputs": [],
   "source": []
  },
  {
   "cell_type": "markdown",
   "id": "b9f34c65",
   "metadata": {},
   "source": [
    "## Most Machine Learning Problems use 2D Numpy Arrays ##\n",
    "\n",
    "Thankfully, most Machine Learning (ML) problems use 2D arrays. Each row is considered a single ***sample*** of training data and the columns represent the ***features*** of each sample. If you are working with ***labeled*** data then it means that you know the correct 'answer' for each sample. For example, if we had ML data representing the length of the hypotenuse in a triangle $c = \\sqrt{a^2 + b^2}$, it might look like the following (but remember if you were trying to use ML to solve the hypotenuse length then you wouldn't have the math equation for the Pythagorean Theorem). Note: I have given names to each of the columns here, although most ML algorithms work just fine without the header row that shows the names. \n",
    "\n",
    "| Index | Side A | Side B | Side C |\n",
    "|-------|--------|--------|--------|\n",
    "| 0     | 3      | 4      | 5      |\n",
    "| 1     | 5      | 12     | 13     |\n",
    "| 2     | 7      | 24     | 25     |\n",
    "| 3     | 8      | 15     | 17     |\n",
    "| 4     | 9      | 40     | 41     |\n",
    "\n",
    "Many times we need to separate the labels from the features. We call the labels $y$ and the features $X$. The lowercase $y$ indicates that it is a 1D data whereas the uppercase $X$ means that it is multidimensional."
   ]
  },
  {
   "cell_type": "code",
   "execution_count": 19,
   "id": "85bb2ab0",
   "metadata": {},
   "outputs": [
    {
     "name": "stdout",
     "output_type": "stream",
     "text": [
      "[[ 3  4  5]\n",
      " [ 5 12 13]\n",
      " [ 7 24 25]\n",
      " [ 8 15 17]\n",
      " [ 9 40 41]]\n"
     ]
    }
   ],
   "source": [
    "import numpy as np\n",
    "\n",
    "# Although the table above has an index column, this is usually implied using the natural indexing that the array provides.\n",
    "triangle_data = np.array([\n",
    "    [3, 4, 5],\n",
    "    [5, 12, 13],\n",
    "    [7, 24, 25],\n",
    "    [8, 15, 17],\n",
    "    [9, 40, 41]\n",
    "])\n",
    "print(triangle_data)"
   ]
  },
  {
   "cell_type": "code",
   "execution_count": 28,
   "id": "d910416e",
   "metadata": {},
   "outputs": [
    {
     "name": "stdout",
     "output_type": "stream",
     "text": [
      "[[ 3  4]\n",
      " [ 5 12]\n",
      " [ 7 24]\n",
      " [ 8 15]\n",
      " [ 9 40]]\n",
      "[ 5 13 25 17 41]\n"
     ]
    }
   ],
   "source": [
    "X = triangle_data[:,0:2]\n",
    "print(X)\n",
    "y = triangle_data[:,-1]\n",
    "print(y)"
   ]
  },
  {
   "cell_type": "code",
   "execution_count": null,
   "id": "d0760cdb",
   "metadata": {},
   "outputs": [],
   "source": []
  },
  {
   "cell_type": "markdown",
   "id": "5242d306",
   "metadata": {},
   "source": [
    "## Fancy Ways of Creating Numpy Arrays ##\n",
    "\n",
    "Thus far, the examples have used hardcoded Python lists to initialize each of the Numpy arrays. This works fine for small examples, but for realistic ML problems, all of the data will come from a CSV file or will be downloaded from the internet. For now we will just worry about CSV files. CSV files can be read directly with Numpy or Pandas. Either option is reasonable because most ML libraries can extract the underlying Numpy array from the Pandas DataFrame.\n",
    "\n",
    "**Note**: Make sure that the file data.csv is in your working directory so that the Jupyter Notebook knows where to find it. If not, you'll need to specify an absolute path. "
   ]
  },
  {
   "cell_type": "code",
   "execution_count": 30,
   "id": "039595d5",
   "metadata": {},
   "outputs": [
    {
     "name": "stdout",
     "output_type": "stream",
     "text": [
      "Collecting pandas\n",
      "  Using cached pandas-2.2.3-cp312-cp312-win_amd64.whl.metadata (19 kB)\n",
      "Requirement already satisfied: numpy>=1.26.0 in e:\\microsoft vs code\\.venv\\lib\\site-packages (from pandas) (2.2.1)\n",
      "Requirement already satisfied: python-dateutil>=2.8.2 in e:\\microsoft vs code\\.venv\\lib\\site-packages (from pandas) (2.9.0.post0)\n",
      "Collecting pytz>=2020.1 (from pandas)\n",
      "  Using cached pytz-2024.2-py2.py3-none-any.whl.metadata (22 kB)\n",
      "Collecting tzdata>=2022.7 (from pandas)\n",
      "  Using cached tzdata-2024.2-py2.py3-none-any.whl.metadata (1.4 kB)\n",
      "Requirement already satisfied: six>=1.5 in e:\\microsoft vs code\\.venv\\lib\\site-packages (from python-dateutil>=2.8.2->pandas) (1.17.0)\n",
      "Using cached pandas-2.2.3-cp312-cp312-win_amd64.whl (11.5 MB)\n",
      "Using cached pytz-2024.2-py2.py3-none-any.whl (508 kB)\n",
      "Using cached tzdata-2024.2-py2.py3-none-any.whl (346 kB)\n",
      "Installing collected packages: pytz, tzdata, pandas\n",
      "Successfully installed pandas-2.2.3 pytz-2024.2 tzdata-2024.2\n",
      "Note: you may need to restart the kernel to use updated packages.\n"
     ]
    }
   ],
   "source": [
    "%pip install pandas"
   ]
  },
  {
   "cell_type": "code",
   "execution_count": 31,
   "id": "d93877c8",
   "metadata": {},
   "outputs": [
    {
     "data": {
      "text/html": [
       "<div>\n",
       "<style scoped>\n",
       "    .dataframe tbody tr th:only-of-type {\n",
       "        vertical-align: middle;\n",
       "    }\n",
       "\n",
       "    .dataframe tbody tr th {\n",
       "        vertical-align: top;\n",
       "    }\n",
       "\n",
       "    .dataframe thead th {\n",
       "        text-align: right;\n",
       "    }\n",
       "</style>\n",
       "<table border=\"1\" class=\"dataframe\">\n",
       "  <thead>\n",
       "    <tr style=\"text-align: right;\">\n",
       "      <th></th>\n",
       "      <th>Side A</th>\n",
       "      <th>Side B</th>\n",
       "      <th>Side C</th>\n",
       "    </tr>\n",
       "  </thead>\n",
       "  <tbody>\n",
       "    <tr>\n",
       "      <th>0</th>\n",
       "      <td>3</td>\n",
       "      <td>4</td>\n",
       "      <td>5</td>\n",
       "    </tr>\n",
       "    <tr>\n",
       "      <th>1</th>\n",
       "      <td>5</td>\n",
       "      <td>12</td>\n",
       "      <td>13</td>\n",
       "    </tr>\n",
       "    <tr>\n",
       "      <th>2</th>\n",
       "      <td>7</td>\n",
       "      <td>24</td>\n",
       "      <td>25</td>\n",
       "    </tr>\n",
       "    <tr>\n",
       "      <th>3</th>\n",
       "      <td>8</td>\n",
       "      <td>15</td>\n",
       "      <td>17</td>\n",
       "    </tr>\n",
       "    <tr>\n",
       "      <th>4</th>\n",
       "      <td>9</td>\n",
       "      <td>40</td>\n",
       "      <td>41</td>\n",
       "    </tr>\n",
       "  </tbody>\n",
       "</table>\n",
       "</div>"
      ],
      "text/plain": [
       "   Side A  Side B  Side C\n",
       "0       3       4       5\n",
       "1       5      12      13\n",
       "2       7      24      25\n",
       "3       8      15      17\n",
       "4       9      40      41"
      ]
     },
     "execution_count": 31,
     "metadata": {},
     "output_type": "execute_result"
    }
   ],
   "source": [
    "import pandas as pd\n",
    "df = pd.read_csv('data.csv')\n",
    "df"
   ]
  },
  {
   "cell_type": "code",
   "execution_count": 32,
   "id": "3b902625",
   "metadata": {},
   "outputs": [
    {
     "name": "stdout",
     "output_type": "stream",
     "text": [
      "   Side A  Side B\n",
      "0       3       4\n",
      "1       5      12\n",
      "2       7      24\n",
      "3       8      15\n",
      "4       9      40\n",
      "0     5\n",
      "1    13\n",
      "2    25\n",
      "3    17\n",
      "4    41\n",
      "Name: Side C, dtype: int64\n"
     ]
    }
   ],
   "source": [
    "X = df[['Side A', 'Side B']]\n",
    "y = df['Side C']\n",
    "print(X)\n",
    "print(y)"
   ]
  },
  {
   "cell_type": "code",
   "execution_count": 33,
   "id": "f396743d",
   "metadata": {},
   "outputs": [
    {
     "name": "stdout",
     "output_type": "stream",
     "text": [
      "[[ 3.  4.  5.]\n",
      " [ 5. 12. 13.]\n",
      " [ 7. 24. 25.]\n",
      " [ 8. 15. 17.]\n",
      " [ 9. 40. 41.]]\n"
     ]
    }
   ],
   "source": [
    "import numpy as np\n",
    "\n",
    "data = np.genfromtxt('data.csv', delimiter=',', skip_header=1)\n",
    "print(data)"
   ]
  },
  {
   "cell_type": "code",
   "execution_count": 34,
   "id": "6b31e3a3",
   "metadata": {},
   "outputs": [
    {
     "name": "stdout",
     "output_type": "stream",
     "text": [
      "[[ 3  4]\n",
      " [ 5 12]\n",
      " [ 7 24]\n",
      " [ 8 15]\n",
      " [ 9 40]]\n",
      "[ 5 13 25 17 41]\n"
     ]
    }
   ],
   "source": [
    "X = triangle_data[:,0:2]\n",
    "print(X)\n",
    "y = triangle_data[:,-1]\n",
    "print(y)"
   ]
  },
  {
   "cell_type": "code",
   "execution_count": null,
   "id": "b0042750",
   "metadata": {},
   "outputs": [],
   "source": []
  },
  {
   "cell_type": "markdown",
   "id": "cd7c0a2c",
   "metadata": {},
   "source": [
    "## Creating 'Dummy' Arrays ##\n",
    "\n",
    "Many ML computations require you to generate an array of the same size as your data. There are several ways of doing this depending on what you need the initial array values to be."
   ]
  },
  {
   "cell_type": "code",
   "execution_count": 35,
   "id": "f463f6fe",
   "metadata": {},
   "outputs": [
    {
     "name": "stdout",
     "output_type": "stream",
     "text": [
      "[[1. 1. 1.]\n",
      " [1. 1. 1.]\n",
      " [1. 1. 1.]\n",
      " [1. 1. 1.]\n",
      " [1. 1. 1.]]\n"
     ]
    }
   ],
   "source": [
    "import numpy as np\n",
    "\n",
    "arr = np.ones((5, 3))\n",
    "print(arr)"
   ]
  },
  {
   "cell_type": "code",
   "execution_count": 37,
   "id": "397eef88",
   "metadata": {},
   "outputs": [
    {
     "name": "stdout",
     "output_type": "stream",
     "text": [
      "[[0. 0. 0. 0. 0. 0. 0. 0. 0. 0. 0. 0.]\n",
      " [0. 0. 0. 0. 0. 0. 0. 0. 0. 0. 0. 0.]]\n"
     ]
    }
   ],
   "source": [
    "arr = np.zeros((2, 12))\n",
    "print(arr)"
   ]
  },
  {
   "cell_type": "code",
   "execution_count": 38,
   "id": "6edcff0e",
   "metadata": {},
   "outputs": [
    {
     "name": "stdout",
     "output_type": "stream",
     "text": [
      "[[42 42 42]\n",
      " [42 42 42]\n",
      " [42 42 42]\n",
      " [42 42 42]]\n"
     ]
    }
   ],
   "source": [
    "a = np.full((4, 3), 42)\n",
    "print(a)"
   ]
  },
  {
   "cell_type": "code",
   "execution_count": 39,
   "id": "44003d26",
   "metadata": {},
   "outputs": [
    {
     "name": "stdout",
     "output_type": "stream",
     "text": [
      "[[0.  0.5 1.  1.5 2.  2.5 3.  3.5 4.  4.5]\n",
      " [5.  4.5 4.  3.5 3.  2.5 2.  1.5 1.  0.5]]\n"
     ]
    }
   ],
   "source": [
    "a = np.array([ np.arange(0, 5, 0.5), np.arange(5, 0, -0.5) ])\n",
    "print(a)"
   ]
  },
  {
   "cell_type": "code",
   "execution_count": 40,
   "id": "f75b2e45",
   "metadata": {},
   "outputs": [
    {
     "name": "stdout",
     "output_type": "stream",
     "text": [
      "[0.  0.5 1.  1.5 2.  2.5 3.  3.5 4.  4.5 5.  4.5 4.  3.5 3.  2.5 2.  1.5\n",
      " 1.  0.5]\n"
     ]
    }
   ],
   "source": [
    "a = a.flatten()\n",
    "print(a)"
   ]
  },
  {
   "cell_type": "code",
   "execution_count": 41,
   "id": "eaab5504",
   "metadata": {},
   "outputs": [
    {
     "name": "stdout",
     "output_type": "stream",
     "text": [
      "[[0.  0.5 1.  1.5 2.  2.5 3.  3.5 4.  4.5]\n",
      " [5.  4.5 4.  3.5 3.  2.5 2.  1.5 1.  0.5]]\n"
     ]
    }
   ],
   "source": [
    "a = a.reshape((2, 10))\n",
    "print(a)"
   ]
  },
  {
   "cell_type": "code",
   "execution_count": 42,
   "id": "a127479e",
   "metadata": {},
   "outputs": [
    {
     "name": "stdout",
     "output_type": "stream",
     "text": [
      "[[0.  0.5 1.  1.5 2.  2.5 3.  3.5 4.  4.5]\n",
      " [5.  4.5 4.  3.5 3.  2.5 2.  1.5 1.  0.5]]\n",
      "[[  0.    0.5   1.    1.5   2.    2.5   3.    3.5   4.    4.5]\n",
      " [  5.    4.5   4.    3.5   3.    2.5   2.    1.5   1.  100. ]]\n"
     ]
    }
   ],
   "source": [
    "b = a.copy()\n",
    "b[1,-1] = 100\n",
    "print(a)\n",
    "print(b)"
   ]
  },
  {
   "cell_type": "code",
   "execution_count": null,
   "id": "13490f19",
   "metadata": {},
   "outputs": [],
   "source": []
  },
  {
   "cell_type": "markdown",
   "id": "60ab391a",
   "metadata": {},
   "source": [
    "## Broadcasting ##\n",
    "\n",
    "Numpy Broadcasting is closely related to Vectorized Operations and the two often go hand-in-hand. Broadcasting allows you to take two arrays of different dimensions and perform a mathematical operation that requires them to be the same size. Broadcasting is applied automatically and occurs \"under the hood\" without the programmer having to explicitely specify it. You've already used broadcasting in this notebook without realizing it.  "
   ]
  },
  {
   "cell_type": "code",
   "execution_count": 44,
   "id": "f7b17483",
   "metadata": {},
   "outputs": [
    {
     "name": "stdout",
     "output_type": "stream",
     "text": [
      "[ 2  6 10 14 18]\n"
     ]
    }
   ],
   "source": [
    "# Broadcasting extends the integer 2 into a 5 element array [2, 2, 2, 2, 2] and then vectorized operations perform the element-wise multiplication \n",
    "data = np.array([ 1, 3, 5, 7, 9])\n",
    "data = data * 2\n",
    "print(data)"
   ]
  },
  {
   "cell_type": "code",
   "execution_count": null,
   "id": "305dffc4",
   "metadata": {},
   "outputs": [],
   "source": []
  },
  {
   "cell_type": "markdown",
   "id": "6421865f",
   "metadata": {},
   "source": [
    "Broadcasting is pretty simple when 1D arrays and scalars are being used, but it can become complicated quickly when working with two multidementional arrays."
   ]
  },
  {
   "cell_type": "code",
   "execution_count": 45,
   "id": "7c85f25d",
   "metadata": {},
   "outputs": [
    {
     "name": "stdout",
     "output_type": "stream",
     "text": [
      "5.0\n"
     ]
    }
   ],
   "source": [
    "# Calculate the Euclidean Distance between two points (e.g., it's basically the Pythagorean Theorem)\n",
    "#   Each array is a single point \n",
    "#   So (0,0) to (3,4) is a distance of 5: remember 3,4,5 triangles from geometry\n",
    "p1 = np.array([0, 0])\n",
    "p2 = np.array([3, 4])\n",
    "print(np.sqrt(np.sum((p1 - p2)**2)))"
   ]
  },
  {
   "cell_type": "code",
   "execution_count": 76,
   "id": "94896ece",
   "metadata": {},
   "outputs": [
    {
     "name": "stdout",
     "output_type": "stream",
     "text": [
      "[0 0]\n",
      "[[ 3  4]\n",
      " [ 6  8]\n",
      " [ 9 12]]\n",
      "18.708286933869708\n"
     ]
    }
   ],
   "source": [
    "# One array is a single point but the other is an array of multiple points...\n",
    "#   ...and the answer is probably not what we intended\n",
    "p1 = np.array([0, 0])\n",
    "p2 = np.array([[3, 4], [6, 8], [9, 12]])\n",
    "print(p1)\n",
    "print(p2)\n",
    "print(np.sqrt(np.sum((p1 - p2)**2)))"
   ]
  },
  {
   "cell_type": "code",
   "execution_count": 47,
   "id": "1251462f",
   "metadata": {},
   "outputs": [
    {
     "name": "stdout",
     "output_type": "stream",
     "text": [
      "[11.22497216 14.96662955]\n"
     ]
    }
   ],
   "source": [
    "#   ...Still probably not what we intended (it's the wrong axis)\n",
    "p1 = np.array([0, 0])\n",
    "p2 = np.array([[3, 4], [6, 8], [9, 12]])\n",
    "print(np.sqrt(np.sum((p1 - p2)**2, axis=0)))"
   ]
  },
  {
   "cell_type": "code",
   "execution_count": 48,
   "id": "904224e4",
   "metadata": {},
   "outputs": [
    {
     "name": "stdout",
     "output_type": "stream",
     "text": [
      "[ 5. 10. 15.]\n"
     ]
    }
   ],
   "source": [
    "#   ...That's the right one!\n",
    "p1 = np.array([0, 0])\n",
    "p2 = np.array([[3, 4], [6, 8], [9, 12]])\n",
    "print(np.sqrt(np.sum((p1 - p2)**2, axis=1)))"
   ]
  },
  {
   "cell_type": "code",
   "execution_count": 49,
   "id": "222f5fde",
   "metadata": {},
   "outputs": [
    {
     "name": "stdout",
     "output_type": "stream",
     "text": [
      "29.58039891549808\n",
      "[17.74823935 23.66431913]\n",
      "[ 5. 15. 25.]\n"
     ]
    }
   ],
   "source": [
    "# What if we have two lists of points and we want the distance from each point in one list to each point in the other?\n",
    "p1 = np.array([[0, 0], [-3, -4,], [-6, -8]])\n",
    "p2 = np.array([[3, 4], [6, 8], [9, 12]])\n",
    "print(np.sqrt(np.sum((p1 - p2)**2)))\n",
    "print(np.sqrt(np.sum((p1 - p2)**2, axis=0)))\n",
    "print(np.sqrt(np.sum((p1 - p2)**2, axis=1)))"
   ]
  },
  {
   "cell_type": "code",
   "execution_count": 50,
   "id": "dbc06411",
   "metadata": {},
   "outputs": [
    {
     "name": "stdout",
     "output_type": "stream",
     "text": [
      "[[ 5. 10. 15.]\n",
      " [10. 15. 20.]\n",
      " [15. 20. 25.]]\n"
     ]
    }
   ],
   "source": [
    "# This tells Numpy to create a larger object to fit all of the results\n",
    "p1 = np.array([[0, 0], [-3, -4,], [-6, -8]])\n",
    "p2 = np.array([[3, 4], [6, 8], [9, 12]])\n",
    "print(np.sqrt(np.sum((p1[:, np.newaxis, :] - p2[np.newaxis, :, :]) ** 2, axis=2)))\n"
   ]
  },
  {
   "cell_type": "markdown",
   "id": "483767cb",
   "metadata": {},
   "source": [
    "That last line of code expanded the dimensions of the output array and seemed pretty helpful. But what if we wanted to use the same code for two different situations? In the first situation, we want to calculate the euclidean distance from a single point to an array of points. In the second situation, we want to compare two arrays of points."
   ]
  },
  {
   "cell_type": "code",
   "execution_count": null,
   "id": "75a2c298",
   "metadata": {},
   "outputs": [],
   "source": [
    "def euclid(p1: list, p2: list) -> list:\n",
    "    ''' \n",
    "    p1: list of numpy points, p2: list of numpy points\n",
    "    returns: a list of scalar distances between each point \n",
    "    '''\n",
    "    return np.sqrt(np.sum((p1[:, np.newaxis, :] - p2[np.newaxis, :, :]) ** 2, axis=2))"
   ]
  },
  {
   "cell_type": "code",
   "execution_count": 106,
   "id": "f3b86ce4",
   "metadata": {},
   "outputs": [
    {
     "name": "stdout",
     "output_type": "stream",
     "text": [
      "first example\n",
      "[[[-3 -3 -3]]]\n",
      "\n",
      "second example\n",
      "[[[3 3 3]\n",
      "  [2 2 2]]\n",
      "\n",
      " [[5 5 5]\n",
      "  [4 4 4]]]\n"
     ]
    }
   ],
   "source": [
    "# subtracts a list of points and creates a matrix necessary to fit results\n",
    "\n",
    "def example_pointlist_subtraction(p1, p2):\n",
    "  return p1[:, np.newaxis, :] - p2[np.newaxis, :, :]\n",
    "\n",
    "p1 = np.array([[0,0,0]])\n",
    "p2 = np.array([[3,3,3]])\n",
    "print('first example')\n",
    "print(example_pointlist_subtraction(p1,p2))\n",
    "\n",
    "p2 = np.array([[0,0,0], [1,1,1]])\n",
    "p1 = np.array([[3,3,3], [5,5,5]])\n",
    "print('\\nsecond example')\n",
    "print(example_pointlist_subtraction(p1,p2))"
   ]
  },
  {
   "cell_type": "code",
   "execution_count": 91,
   "id": "826a9d24",
   "metadata": {},
   "outputs": [
    {
     "ename": "IndexError",
     "evalue": "too many indices for array: array is 1-dimensional, but 2 were indexed",
     "output_type": "error",
     "traceback": [
      "\u001b[1;31m---------------------------------------------------------------------------\u001b[0m",
      "\u001b[1;31mIndexError\u001b[0m                                Traceback (most recent call last)",
      "Cell \u001b[1;32mIn[91], line 4\u001b[0m\n\u001b[0;32m      2\u001b[0m p1 \u001b[38;5;241m=\u001b[39m np\u001b[38;5;241m.\u001b[39marray([\u001b[38;5;241m0\u001b[39m, \u001b[38;5;241m0\u001b[39m])\n\u001b[0;32m      3\u001b[0m p2 \u001b[38;5;241m=\u001b[39m np\u001b[38;5;241m.\u001b[39marray([[\u001b[38;5;241m3\u001b[39m, \u001b[38;5;241m4\u001b[39m], [\u001b[38;5;241m6\u001b[39m, \u001b[38;5;241m8\u001b[39m], [\u001b[38;5;241m9\u001b[39m, \u001b[38;5;241m12\u001b[39m]])\n\u001b[1;32m----> 4\u001b[0m \u001b[38;5;28mprint\u001b[39m(\u001b[43meuclid\u001b[49m\u001b[43m(\u001b[49m\u001b[43mp1\u001b[49m\u001b[43m,\u001b[49m\u001b[43m \u001b[49m\u001b[43mp2\u001b[49m\u001b[43m)\u001b[49m) \n",
      "Cell \u001b[1;32mIn[90], line 2\u001b[0m, in \u001b[0;36meuclid\u001b[1;34m(p1, p2)\u001b[0m\n\u001b[0;32m      1\u001b[0m \u001b[38;5;28;01mdef\u001b[39;00m\u001b[38;5;250m \u001b[39m\u001b[38;5;21meuclid\u001b[39m(p1: \u001b[38;5;28mlist\u001b[39m, p2: \u001b[38;5;28mlist\u001b[39m) \u001b[38;5;241m-\u001b[39m\u001b[38;5;241m>\u001b[39m \u001b[38;5;28mlist\u001b[39m:\n\u001b[1;32m----> 2\u001b[0m     \u001b[38;5;28;01mreturn\u001b[39;00m np\u001b[38;5;241m.\u001b[39msqrt(np\u001b[38;5;241m.\u001b[39msum((\u001b[43mp1\u001b[49m\u001b[43m[\u001b[49m\u001b[43m:\u001b[49m\u001b[43m,\u001b[49m\u001b[43m \u001b[49m\u001b[43mnp\u001b[49m\u001b[38;5;241;43m.\u001b[39;49m\u001b[43mnewaxis\u001b[49m\u001b[43m,\u001b[49m\u001b[43m \u001b[49m\u001b[43m:\u001b[49m\u001b[43m]\u001b[49m \u001b[38;5;241m-\u001b[39m p2[np\u001b[38;5;241m.\u001b[39mnewaxis, :, :]) \u001b[38;5;241m*\u001b[39m\u001b[38;5;241m*\u001b[39m \u001b[38;5;241m2\u001b[39m, axis\u001b[38;5;241m=\u001b[39m\u001b[38;5;241m2\u001b[39m))\n",
      "\u001b[1;31mIndexError\u001b[0m: too many indices for array: array is 1-dimensional, but 2 were indexed"
     ]
    }
   ],
   "source": [
    "# The old code doesn't seem to work\n",
    "p1 = np.array([0, 0])\n",
    "p2 = np.array([[3, 4], [6, 8], [9, 12]])\n",
    "print(euclid(p1, p2)) "
   ]
  },
  {
   "cell_type": "code",
   "execution_count": 92,
   "id": "9fae0b6f",
   "metadata": {},
   "outputs": [
    {
     "name": "stdout",
     "output_type": "stream",
     "text": [
      "[[ 5. 10. 15.]]\n"
     ]
    }
   ],
   "source": [
    "# We can turn the singleton point into an array of points that happens to just have one element in it.\n",
    "p1 = np.array([[0, 0]])\n",
    "p2 = np.array([[3, 4], [6, 8], [9, 12]])\n",
    "print(euclid(p1, p2)) "
   ]
  },
  {
   "cell_type": "code",
   "execution_count": 54,
   "id": "705f81c5",
   "metadata": {},
   "outputs": [
    {
     "name": "stdout",
     "output_type": "stream",
     "text": [
      "[[5.]]\n"
     ]
    }
   ],
   "source": [
    "# Or even find the distance between two single points\n",
    "p1 = np.array([[0, 0]])\n",
    "p2 = np.array([[3, 4]])\n",
    "print(euclid(p1, p2)) "
   ]
  },
  {
   "cell_type": "code",
   "execution_count": 192,
   "id": "1a374a89",
   "metadata": {},
   "outputs": [
    {
     "name": "stdout",
     "output_type": "stream",
     "text": [
      "[[5.         2.82842712]\n",
      " [3.60555128 1.41421356]]\n"
     ]
    }
   ],
   "source": [
    "p1 = np.array([[0, 0],[1,1]])\n",
    "p2 = np.array([[3, 4],[2,2]])\n",
    "print(euclid(p1, p2)) "
   ]
  },
  {
   "cell_type": "markdown",
   "id": "ebdeca5a",
   "metadata": {},
   "source": [
    "# Practice, Practice, Practice, and Research #\n",
    "\n",
    "How did I know about this crazy line of code?\n",
    "\n",
    "```np.sqrt(np.sum((p1[:, np.newaxis, :] - p2[np.newaxis, :, :]) ** 2, axis=2))```\n",
    "\n",
    "Lots of practice with simpler code and lots of reading Stackoverflow, the Numpy documentation, and of course some questions to ChatGPT. I don't think any one of these resources on their own would have been enough for me to understand and write the code, but together it all worked together quite nicely. "
   ]
  },
  {
   "cell_type": "code",
   "execution_count": 64,
   "id": "1967f246",
   "metadata": {},
   "outputs": [
    {
     "name": "stdout",
     "output_type": "stream",
     "text": [
      "3.0\n"
     ]
    }
   ],
   "source": [
    "# euclidean distance\n",
    "point1 = np.array([1,2,1])\n",
    "point2 = np.array([3,3,3])\n",
    "temp = point1 - point2\n",
    "\n",
    "sum_sq = np.dot(temp.T, temp) # temp.transpose, temp\n",
    "\n",
    "# squared distance between two vectors x and y: ||x|| is the (nonnegative) norm/size of the matrix\n",
    "# ||x-y||^2 = (x-y)(x-y)^T = xx^T - 2xy^T + yy^T\n",
    "\n",
    "result = np.sqrt(sum_sq)\n",
    "print(result)"
   ]
  },
  {
   "cell_type": "code",
   "execution_count": 95,
   "id": "27bfc6cf",
   "metadata": {},
   "outputs": [
    {
     "name": "stdout",
     "output_type": "stream",
     "text": [
      "[[-3 -3 -3]]\n",
      "9\n"
     ]
    }
   ],
   "source": [
    "# manhattan distance 2d\n",
    "p1 = np.array([0,0,0])\n",
    "p2 = np.array([3,3,3])\n",
    "\n",
    "print(p1-p2)\n",
    "\n",
    "# p = (p_1, p_2, ...) and q = (q_1, q_2, ...)\n",
    "# for two dimensions: summation of |p_i - q_i|\n",
    "r = np.sum(np.abs(p1-p2))\n",
    "\n",
    "print(r)\n",
    "# result1 = np.abs(np.add(p1, p2))\n",
    "# print(result1)\n"
   ]
  },
  {
   "cell_type": "code",
   "execution_count": 209,
   "id": "99dd39ac",
   "metadata": {},
   "outputs": [],
   "source": [
    "# manhattan distance\n",
    "def manhattan_example(p1: list, p2: list) -> list:\n",
    "  print('point subtraction')\n",
    "  print(p1[:, np.newaxis, :] - p2[np.newaxis, :, :])\n",
    "  print('\\nabsolute value')\n",
    "  print(np.abs(p1[:, np.newaxis, :] - p2[np.newaxis, :, :]))\n",
    "  print('\\nsummation')\n",
    "  print(np.sum(np.abs(p1[:, np.newaxis, :] - p2[np.newaxis, :, :]), axis=2)) "
   ]
  },
  {
   "cell_type": "code",
   "execution_count": 193,
   "id": "a86ee368",
   "metadata": {},
   "outputs": [],
   "source": [
    "def manhattan(p1: list, p2: list) -> list:\n",
    "  ''' \n",
    "  p1: list of numpy points, p2: list of numpy points\n",
    "  returns: a list of scalar distances between each point using\n",
    "  '''\n",
    "  return np.sum(np.abs(p1[:, np.newaxis, :] - p2[np.newaxis, :, :]), axis=2)"
   ]
  },
  {
   "cell_type": "code",
   "execution_count": 195,
   "id": "22059d44",
   "metadata": {},
   "outputs": [
    {
     "name": "stdout",
     "output_type": "stream",
     "text": [
      "[[6 9]\n",
      " [3 6]]\n"
     ]
    }
   ],
   "source": [
    "p1 = np.array([[0,0,0], [1,1,1]])\n",
    "p2 = np.array([[2,2,2], [3,3,3]])\n",
    "# p1 = np.array([[0,0,0]])\n",
    "# p2 = np.array([[2,2,2], [3,3,3]])\n",
    "r = manhattan(p1, p2)\n",
    "\n",
    "print(r)"
   ]
  },
  {
   "cell_type": "code",
   "execution_count": 210,
   "id": "8848d289",
   "metadata": {},
   "outputs": [
    {
     "name": "stdout",
     "output_type": "stream",
     "text": [
      "point subtraction\n",
      "[[[-2 -2 -2]\n",
      "  [-3 -3 -3]]\n",
      "\n",
      " [[-1 -1 -1]\n",
      "  [-2 -2 -2]]]\n",
      "\n",
      "absolute value\n",
      "[[[2 2 2]\n",
      "  [3 3 3]]\n",
      "\n",
      " [[1 1 1]\n",
      "  [2 2 2]]]\n",
      "\n",
      "summation\n",
      "[[6 9]\n",
      " [3 6]]\n"
     ]
    }
   ],
   "source": [
    "manhattan_example(p1, p2)"
   ]
  },
  {
   "cell_type": "code",
   "execution_count": 233,
   "id": "182abed9",
   "metadata": {},
   "outputs": [],
   "source": [
    "# chebyshev distance\n",
    "def chebyshev(p1: list, p2: list) -> list:\n",
    "  return np.max(np.abs(p1[:, np.newaxis, :] - p2[np.newaxis, :, :]), axis=2)"
   ]
  },
  {
   "cell_type": "code",
   "execution_count": 231,
   "id": "e07314e2",
   "metadata": {},
   "outputs": [],
   "source": [
    "def chebyshev_example(p1: list, p2: list) -> list:\n",
    "  print('subtraction')\n",
    "  print(p1[:, np.newaxis, :] - p2[np.newaxis, :, :])\n",
    "  print('\\nabs')\n",
    "  print(np.abs(p1[:, np.newaxis, :] - p2[np.newaxis, :, :]))\n",
    "  print('\\nmax')\n",
    "  print(np.max(np.abs(p1[:, np.newaxis, :] - p2[np.newaxis, :, :]), axis=2))"
   ]
  },
  {
   "cell_type": "code",
   "execution_count": 242,
   "id": "81c07936",
   "metadata": {},
   "outputs": [
    {
     "data": {
      "text/plain": [
       "array([[2, 3],\n",
       "       [7, 6]])"
      ]
     },
     "execution_count": 242,
     "metadata": {},
     "output_type": "execute_result"
    }
   ],
   "source": [
    "p1 = np.array([[0,1,2], [1,4,9]])\n",
    "p2 = np.array([[2,2,2], [3,3,3]])\n",
    "chebyshev(p1, p2)"
   ]
  },
  {
   "cell_type": "code",
   "execution_count": 243,
   "id": "ba4ec32e",
   "metadata": {},
   "outputs": [
    {
     "name": "stdout",
     "output_type": "stream",
     "text": [
      "subtraction\n",
      "[[[-2 -1  0]\n",
      "  [-3 -2 -1]]\n",
      "\n",
      " [[-1  2  7]\n",
      "  [-2  1  6]]]\n",
      "\n",
      "abs\n",
      "[[[2 1 0]\n",
      "  [3 2 1]]\n",
      "\n",
      " [[1 2 7]\n",
      "  [2 1 6]]]\n",
      "\n",
      "max\n",
      "[[2 3]\n",
      " [7 6]]\n"
     ]
    }
   ],
   "source": [
    "chebyshev_example(p1,p2)"
   ]
  },
  {
   "cell_type": "code",
   "execution_count": 258,
   "id": "c416e200",
   "metadata": {},
   "outputs": [
    {
     "name": "stdout",
     "output_type": "stream",
     "text": [
      "cosine dist is last one\n",
      "6\n",
      "2.23606797749979\n",
      "3.4641016151377544\n",
      "7.745966692414834\n",
      "0.7745966692414834\n",
      "0.2254033307585166\n"
     ]
    }
   ],
   "source": [
    "# cosine distance 2d\n",
    "p1 = np.array([0,1,2])\n",
    "p2 = np.array([2,2,2])\n",
    "def cosine_similarity(p1, p2):\n",
    "  dotprod = np.dot(p1,p2)\n",
    "  p1n = np.linalg.norm(p1)\n",
    "  p2n = np.linalg.norm(p2)\n",
    "\n",
    "  norm_mult = p1n * p2n\n",
    "  dot_div_mult = dotprod / norm_mult\n",
    "\n",
    "  print(dotprod)\n",
    "  print(p1n)\n",
    "  print(p2n)\n",
    "  print(norm_mult)\n",
    "  print(dot_div_mult)\n",
    "  return dot_div_mult\n",
    "\n",
    "print('cosine dist is last one')\n",
    "print(1-cosine_similarity(p1,p2))\n"
   ]
  },
  {
   "cell_type": "code",
   "execution_count": 332,
   "id": "23592f44",
   "metadata": {},
   "outputs": [
    {
     "name": "stdout",
     "output_type": "stream",
     "text": [
      "dot product between points and added together\n",
      "[[6 5]]\n",
      "[2.23606798]\n",
      "[3.46410162 5.91607978]\n",
      "[ 7.74596669 13.22875656]\n",
      "[[0.77459667 0.37796447]]\n",
      "[[0.22540333 0.62203553]]\n"
     ]
    }
   ],
   "source": [
    "# cosine distance\n",
    "p1 = np.array([[0,1,2]])\n",
    "p2 = np.array([[2,2,2], [5,3,1]])\n",
    "def cosine_distance_example(p1: list, p2: list) -> list:\n",
    "  print('dot product between points and added together')\n",
    "  print(np.dot(p1, p2.T))\n",
    "  print(np.linalg.norm(p1, axis=1))\n",
    "  print(np.linalg.norm(p2, axis=1))\n",
    "  print(np.linalg.norm(p1, axis=1) * np.linalg.norm(p2, axis=1))\n",
    "  print(np.dot(p1, p2.T) / (np.linalg.norm(p1, axis=1) * np.linalg.norm(p2, axis=1)))\n",
    "  print(1 - (np.dot(p1, p2.T) / (np.linalg.norm(p1, axis=1) * np.linalg.norm(p2, axis=1))))\n",
    "\n",
    "cosine_distance_example(p1,p2)"
   ]
  },
  {
   "cell_type": "code",
   "execution_count": 333,
   "id": "ec8f5319",
   "metadata": {},
   "outputs": [],
   "source": [
    "def cosine_distance(p1: list, p2: list) -> list:\n",
    "  return 1 - (np.dot(p1, p2.T) / (np.linalg.norm(p1, axis=1) * np.linalg.norm(p2, axis=1)))"
   ]
  },
  {
   "cell_type": "code",
   "execution_count": 334,
   "id": "311b9766",
   "metadata": {},
   "outputs": [
    {
     "data": {
      "text/plain": [
       "array([[0.22540333, 0.62203553]])"
      ]
     },
     "execution_count": 334,
     "metadata": {},
     "output_type": "execute_result"
    }
   ],
   "source": [
    "cosine_distance(p1,p2)"
   ]
  },
  {
   "cell_type": "code",
   "execution_count": 337,
   "id": "d551c60a",
   "metadata": {},
   "outputs": [
    {
     "name": "stdout",
     "output_type": "stream",
     "text": [
      "1st test:\n",
      "[[3]]\n",
      "[[2]]\n",
      "[[0.22540333]]\n",
      "\n",
      "2nd test:\n",
      "[[3 6]\n",
      " [3 6]]\n",
      "[[2 3]\n",
      " [1 2]]\n",
      "[[0.22540333 0.        ]\n",
      " [0.22540333 0.        ]]\n"
     ]
    }
   ],
   "source": [
    "# all together\n",
    "\n",
    "def manhattan(p1: list, p2: list) -> list:\n",
    "  ''' \n",
    "  p1: list of numpy points, p2: list of numpy points\n",
    "  returns: a list of scalar distances between each point using manhattan\n",
    "  '''\n",
    "  return np.sum(np.abs(p1[:, np.newaxis, :] - p2[np.newaxis, :, :]), axis=2)\n",
    "\n",
    "def chebyshev(p1: list, p2: list) -> list:\n",
    "  ''' \n",
    "  p1: list of numpy points, p2: list of numpy points\n",
    "  returns: a list of scalar distances between each point using chebyshev\n",
    "  '''\n",
    "  return np.max(np.abs(p1[:, np.newaxis, :] - p2[np.newaxis, :, :]), axis=2)\n",
    "\n",
    "def cosine_distance(p1: list, p2: list) -> list:\n",
    "  ''' \n",
    "  p1: list of numpy points, p2: list of numpy points\n",
    "  returns: a list of scalar distances between each point using 1 - cosine similarity\n",
    "  '''\n",
    "  return 1 - (np.dot(p1, p2.T) / (np.linalg.norm(p1, axis=1) * np.linalg.norm(p2, axis=1)))\n",
    "\n",
    "print('1st test:')\n",
    "\n",
    "p1 = np.array([[0,1,2]])\n",
    "p2 = np.array([[2,2,2]])\n",
    "print(manhattan(p1, p2))\n",
    "print(chebyshev(p1, p2))\n",
    "print(cosine_distance(p1, p2))\n",
    "\n",
    "print('\\n2nd test:')\n",
    "\n",
    "p1 = np.array([[0,1,2], [1,1,1]])\n",
    "p2 = np.array([[2,2,2], [3,3,3]])\n",
    "print(manhattan(p1, p2))\n",
    "print(chebyshev(p1, p2))\n",
    "print(cosine_distance(p1, p2))"
   ]
  }
 ],
 "metadata": {
  "kernelspec": {
   "display_name": ".venv",
   "language": "python",
   "name": "python3"
  },
  "language_info": {
   "codemirror_mode": {
    "name": "ipython",
    "version": 3
   },
   "file_extension": ".py",
   "mimetype": "text/x-python",
   "name": "python",
   "nbconvert_exporter": "python",
   "pygments_lexer": "ipython3",
   "version": "3.12.8"
  }
 },
 "nbformat": 4,
 "nbformat_minor": 5
}
